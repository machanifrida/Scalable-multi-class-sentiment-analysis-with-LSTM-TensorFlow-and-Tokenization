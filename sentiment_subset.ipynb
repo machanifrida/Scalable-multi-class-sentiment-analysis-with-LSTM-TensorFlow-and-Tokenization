{
 "cells": [
  {
   "cell_type": "code",
   "execution_count": 1,
   "metadata": {
    "_cell_guid": "b1076dfc-b9ad-4769-8c92-a6c4dae69d19",
    "_uuid": "8f2839f25d086af736a60e9eeb907d3b93b6e0e5",
    "id": "HzXVsyRTpeTT"
   },
   "outputs": [],
   "source": [
    "# This Python 3 environment comes with many helpful analytics libraries installed\n",
    "# It is defined by the kaggle/python Docker image: https://github.com/kaggle/docker-python\n",
    "# For example, here's several helpful packages to load\n",
    "\n",
    "import numpy as np # linear algebra\n",
    "import pandas as pd # data processing, CSV file I/O (e.g. pd.read_csv)\n",
    "\n",
    "# Input data files are available in the read-only \"../input/\" directory\n",
    "# For example, running this (by clicking run or pressing Shift+Enter) will list all files under the input directory\n",
    "\n",
    "import os\n",
    "for dirname, _, filenames in os.walk('/kaggle/input'):\n",
    "    for filename in filenames:\n",
    "        print(os.path.join(dirname, filename))\n",
    "\n",
    "# You can write up to 20GB to the current directory (/kaggle/working/) that gets preserved as output when you create a version using \"Save & Run All\"\n",
    "# You can also write temporary files to /kaggle/temp/, but they won't be saved outside of the current session"
   ]
  },
  {
   "cell_type": "code",
   "execution_count": 2,
   "metadata": {
    "id": "Ra0q65YppeTV"
   },
   "outputs": [],
   "source": [
    "import warnings\n",
    "warnings.simplefilter(action='ignore', category=UserWarning)"
   ]
  },
  {
   "cell_type": "code",
   "execution_count": 3,
   "metadata": {
    "id": "p2CrSYvnpeTW"
   },
   "outputs": [],
   "source": [
    "import tensorflow as tf\n",
    "from tensorflow.keras.layers import TextVectorization, Embedding, Bidirectional, LSTM, Dense, Dropout\n",
    "from tensorflow.keras.models import Sequential\n",
    "from tensorflow.keras.callbacks import EarlyStopping, ModelCheckpoint\n",
    "from sklearn.model_selection import train_test_split\n",
    "from sklearn.preprocessing import LabelEncoder\n",
    "from sklearn.metrics import classification_report\n",
    "import matplotlib.pyplot as plt"
   ]
  },
  {
   "cell_type": "code",
   "execution_count": 4,
   "metadata": {
    "colab": {
     "base_uri": "https://localhost:8080/",
     "height": 339
    },
    "id": "LZRRGnJ2peTX",
    "outputId": "e7518283-3cf7-4a5b-ae71-f796730e599e"
   },
   "outputs": [
    {
     "data": {
      "text/html": [
       "<div>\n",
       "<style scoped>\n",
       "    .dataframe tbody tr th:only-of-type {\n",
       "        vertical-align: middle;\n",
       "    }\n",
       "\n",
       "    .dataframe tbody tr th {\n",
       "        vertical-align: top;\n",
       "    }\n",
       "\n",
       "    .dataframe thead th {\n",
       "        text-align: right;\n",
       "    }\n",
       "</style>\n",
       "<table border=\"1\" class=\"dataframe\">\n",
       "  <thead>\n",
       "    <tr style=\"text-align: right;\">\n",
       "      <th></th>\n",
       "      <th>product_id</th>\n",
       "      <th>product_title</th>\n",
       "      <th>category</th>\n",
       "      <th>review_text</th>\n",
       "      <th>rating</th>\n",
       "      <th>sentiment</th>\n",
       "    </tr>\n",
       "  </thead>\n",
       "  <tbody>\n",
       "    <tr>\n",
       "      <th>0</th>\n",
       "      <td>4589130</td>\n",
       "      <td>Stainless Steel Blender</td>\n",
       "      <td>Home &amp; Kitchen</td>\n",
       "      <td>Fast shipping and great packaging.</td>\n",
       "      <td>5</td>\n",
       "      <td>Positive</td>\n",
       "    </tr>\n",
       "    <tr>\n",
       "      <th>1</th>\n",
       "      <td>4716121</td>\n",
       "      <td>Long-Wear Matte Lipstick</td>\n",
       "      <td>Beauty</td>\n",
       "      <td>Highly recommend. Excellent quality.</td>\n",
       "      <td>5</td>\n",
       "      <td>Positive</td>\n",
       "    </tr>\n",
       "    <tr>\n",
       "      <th>2</th>\n",
       "      <td>9640962</td>\n",
       "      <td>Electric Toothbrush</td>\n",
       "      <td>Health &amp; Personal Care</td>\n",
       "      <td>Terrible experience, do not buy.</td>\n",
       "      <td>1</td>\n",
       "      <td>Negative</td>\n",
       "    </tr>\n",
       "    <tr>\n",
       "      <th>3</th>\n",
       "      <td>4442583</td>\n",
       "      <td>Hydrating Facial Serum</td>\n",
       "      <td>Beauty</td>\n",
       "      <td>Does the job, but not impressed.</td>\n",
       "      <td>4</td>\n",
       "      <td>Positive</td>\n",
       "    </tr>\n",
       "    <tr>\n",
       "      <th>4</th>\n",
       "      <td>9757659</td>\n",
       "      <td>LEGO Building Kit</td>\n",
       "      <td>Toys &amp; Games</td>\n",
       "      <td>Exactly what I needed!</td>\n",
       "      <td>5</td>\n",
       "      <td>Positive</td>\n",
       "    </tr>\n",
       "  </tbody>\n",
       "</table>\n",
       "</div>"
      ],
      "text/plain": [
       "   product_id             product_title                category  \\\n",
       "0     4589130   Stainless Steel Blender          Home & Kitchen   \n",
       "1     4716121  Long-Wear Matte Lipstick                  Beauty   \n",
       "2     9640962       Electric Toothbrush  Health & Personal Care   \n",
       "3     4442583    Hydrating Facial Serum                  Beauty   \n",
       "4     9757659         LEGO Building Kit            Toys & Games   \n",
       "\n",
       "                            review_text  rating sentiment  \n",
       "0    Fast shipping and great packaging.       5  Positive  \n",
       "1  Highly recommend. Excellent quality.       5  Positive  \n",
       "2      Terrible experience, do not buy.       1  Negative  \n",
       "3      Does the job, but not impressed.       4  Positive  \n",
       "4                Exactly what I needed!       5  Positive  "
      ]
     },
     "execution_count": 4,
     "metadata": {},
     "output_type": "execute_result"
    }
   ],
   "source": [
    "# Load Data\n",
    "data = pd.read_csv(\"product_reviews.csv\")\n",
    "data.head()"
   ]
  },
  {
   "cell_type": "code",
   "execution_count": 5,
   "metadata": {},
   "outputs": [
    {
     "data": {
      "text/plain": [
       "(4000000, 6)"
      ]
     },
     "execution_count": 5,
     "metadata": {},
     "output_type": "execute_result"
    }
   ],
   "source": [
    "data.shape"
   ]
  },
  {
   "cell_type": "markdown",
   "metadata": {},
   "source": [
    "## Slice the Dataset for Memory Purposes"
   ]
  },
  {
   "cell_type": "code",
   "execution_count": 7,
   "metadata": {},
   "outputs": [],
   "source": [
    "df_shuffled = data.sample(frac=1, random_state=42).reset_index(drop=True)\n",
    "\n",
    "# Slice the first 1 million rows (or fewer if your dataset is smaller)\n",
    "df = df_shuffled.iloc[:5_000]"
   ]
  },
  {
   "cell_type": "code",
   "execution_count": 8,
   "metadata": {},
   "outputs": [
    {
     "data": {
      "text/plain": [
       "(5000, 6)"
      ]
     },
     "execution_count": 8,
     "metadata": {},
     "output_type": "execute_result"
    }
   ],
   "source": [
    "df.shape"
   ]
  },
  {
   "cell_type": "markdown",
   "metadata": {
    "id": "wXCD9m_ipeTX"
   },
   "source": [
    "## EDA"
   ]
  },
  {
   "cell_type": "code",
   "execution_count": 10,
   "metadata": {
    "id": "iu54LgkmpeTZ",
    "outputId": "30d94eb6-d011-4b78-cab2-3270d96a5f3d"
   },
   "outputs": [
    {
     "name": "stdout",
     "output_type": "stream",
     "text": [
      "Series([], dtype: int64)\n"
     ]
    }
   ],
   "source": [
    "missing_values = df.isnull().sum().sort_values(ascending = False)\n",
    "print(missing_values[missing_values > 0])"
   ]
  },
  {
   "cell_type": "code",
   "execution_count": 11,
   "metadata": {
    "id": "Na4mBdoxpeTa",
    "outputId": "ea983f84-136a-4f76-b7d7-efecacab7375"
   },
   "outputs": [
    {
     "data": {
      "text/plain": [
       "Index(['product_id', 'product_title', 'category', 'review_text', 'rating',\n",
       "       'sentiment'],\n",
       "      dtype='object')"
      ]
     },
     "execution_count": 11,
     "metadata": {},
     "output_type": "execute_result"
    }
   ],
   "source": [
    "df.columns"
   ]
  },
  {
   "cell_type": "code",
   "execution_count": 12,
   "metadata": {
    "id": "W_Rgy_TgpeTb",
    "outputId": "afcc89a6-a316-435c-ef82-3134b0f6ef8e"
   },
   "outputs": [
    {
     "data": {
      "text/plain": [
       "sentiment\n",
       "Positive    2539\n",
       "Neutral     1561\n",
       "Negative     900\n",
       "Name: count, dtype: int64"
      ]
     },
     "execution_count": 12,
     "metadata": {},
     "output_type": "execute_result"
    }
   ],
   "source": [
    "df['sentiment'].value_counts()"
   ]
  },
  {
   "cell_type": "code",
   "execution_count": 13,
   "metadata": {
    "id": "XLWPpA3BpeTb",
    "outputId": "ec1dd8d8-c8ee-4e5d-cf0c-3c02e3dea3b3"
   },
   "outputs": [
    {
     "data": {
      "text/plain": [
       "rating\n",
       "5    1554\n",
       "4    1466\n",
       "3     944\n",
       "2     641\n",
       "1     395\n",
       "Name: count, dtype: int64"
      ]
     },
     "execution_count": 13,
     "metadata": {},
     "output_type": "execute_result"
    }
   ],
   "source": [
    "df['rating'].value_counts()"
   ]
  },
  {
   "cell_type": "code",
   "execution_count": 14,
   "metadata": {
    "id": "Yr3G--hBpeTc",
    "outputId": "15c8a89c-389a-4c1e-da6f-c579c869099b"
   },
   "outputs": [
    {
     "data": {
      "text/plain": [
       "category                sentiment\n",
       "Beauty                  Positive     306\n",
       "                        Neutral      184\n",
       "                        Negative     103\n",
       "Books                   Positive     302\n",
       "                        Neutral      205\n",
       "                        Negative     118\n",
       "Electronics             Positive     291\n",
       "                        Neutral      167\n",
       "                        Negative     124\n",
       "Fashion                 Positive     331\n",
       "                        Neutral      208\n",
       "                        Negative     103\n",
       "Health & Personal Care  Positive     360\n",
       "                        Neutral      211\n",
       "                        Negative     110\n",
       "Home & Kitchen          Positive     314\n",
       "                        Neutral      180\n",
       "                        Negative     116\n",
       "Sports & Outdoors       Positive     314\n",
       "                        Neutral      199\n",
       "                        Negative     133\n",
       "Toys & Games            Positive     321\n",
       "                        Neutral      207\n",
       "                        Negative      93\n",
       "Name: count, dtype: int64"
      ]
     },
     "execution_count": 14,
     "metadata": {},
     "output_type": "execute_result"
    }
   ],
   "source": [
    "df.groupby('category')['sentiment'].value_counts()"
   ]
  },
  {
   "cell_type": "code",
   "execution_count": 15,
   "metadata": {
    "id": "eAhhJLd5peTc",
    "outputId": "2c4dd492-0c8d-4d71-c3e4-f11eb64f36bb"
   },
   "outputs": [
    {
     "data": {
      "text/html": [
       "<div>\n",
       "<style scoped>\n",
       "    .dataframe tbody tr th:only-of-type {\n",
       "        vertical-align: middle;\n",
       "    }\n",
       "\n",
       "    .dataframe tbody tr th {\n",
       "        vertical-align: top;\n",
       "    }\n",
       "\n",
       "    .dataframe thead th {\n",
       "        text-align: right;\n",
       "    }\n",
       "</style>\n",
       "<table border=\"1\" class=\"dataframe\">\n",
       "  <thead>\n",
       "    <tr style=\"text-align: right;\">\n",
       "      <th>rating</th>\n",
       "      <th>1</th>\n",
       "      <th>2</th>\n",
       "      <th>3</th>\n",
       "      <th>4</th>\n",
       "      <th>5</th>\n",
       "      <th>Count</th>\n",
       "    </tr>\n",
       "    <tr>\n",
       "      <th>category</th>\n",
       "      <th></th>\n",
       "      <th></th>\n",
       "      <th></th>\n",
       "      <th></th>\n",
       "      <th></th>\n",
       "      <th></th>\n",
       "    </tr>\n",
       "  </thead>\n",
       "  <tbody>\n",
       "    <tr>\n",
       "      <th>Beauty</th>\n",
       "      <td>59</td>\n",
       "      <td>60</td>\n",
       "      <td>120</td>\n",
       "      <td>162</td>\n",
       "      <td>192</td>\n",
       "      <td>593</td>\n",
       "    </tr>\n",
       "    <tr>\n",
       "      <th>Books</th>\n",
       "      <td>46</td>\n",
       "      <td>90</td>\n",
       "      <td>127</td>\n",
       "      <td>170</td>\n",
       "      <td>192</td>\n",
       "      <td>625</td>\n",
       "    </tr>\n",
       "    <tr>\n",
       "      <th>Electronics</th>\n",
       "      <td>45</td>\n",
       "      <td>93</td>\n",
       "      <td>101</td>\n",
       "      <td>172</td>\n",
       "      <td>171</td>\n",
       "      <td>582</td>\n",
       "    </tr>\n",
       "    <tr>\n",
       "      <th>Fashion</th>\n",
       "      <td>47</td>\n",
       "      <td>72</td>\n",
       "      <td>108</td>\n",
       "      <td>212</td>\n",
       "      <td>203</td>\n",
       "      <td>642</td>\n",
       "    </tr>\n",
       "    <tr>\n",
       "      <th>Health &amp; Personal Care</th>\n",
       "      <td>58</td>\n",
       "      <td>64</td>\n",
       "      <td>130</td>\n",
       "      <td>208</td>\n",
       "      <td>221</td>\n",
       "      <td>681</td>\n",
       "    </tr>\n",
       "    <tr>\n",
       "      <th>Home &amp; Kitchen</th>\n",
       "      <td>54</td>\n",
       "      <td>80</td>\n",
       "      <td>107</td>\n",
       "      <td>176</td>\n",
       "      <td>193</td>\n",
       "      <td>610</td>\n",
       "    </tr>\n",
       "    <tr>\n",
       "      <th>Sports &amp; Outdoors</th>\n",
       "      <td>46</td>\n",
       "      <td>111</td>\n",
       "      <td>120</td>\n",
       "      <td>183</td>\n",
       "      <td>186</td>\n",
       "      <td>646</td>\n",
       "    </tr>\n",
       "    <tr>\n",
       "      <th>Toys &amp; Games</th>\n",
       "      <td>40</td>\n",
       "      <td>71</td>\n",
       "      <td>131</td>\n",
       "      <td>183</td>\n",
       "      <td>196</td>\n",
       "      <td>621</td>\n",
       "    </tr>\n",
       "    <tr>\n",
       "      <th>Count</th>\n",
       "      <td>395</td>\n",
       "      <td>641</td>\n",
       "      <td>944</td>\n",
       "      <td>1466</td>\n",
       "      <td>1554</td>\n",
       "      <td>5000</td>\n",
       "    </tr>\n",
       "  </tbody>\n",
       "</table>\n",
       "</div>"
      ],
      "text/plain": [
       "rating                    1    2    3     4     5  Count\n",
       "category                                                \n",
       "Beauty                   59   60  120   162   192    593\n",
       "Books                    46   90  127   170   192    625\n",
       "Electronics              45   93  101   172   171    582\n",
       "Fashion                  47   72  108   212   203    642\n",
       "Health & Personal Care   58   64  130   208   221    681\n",
       "Home & Kitchen           54   80  107   176   193    610\n",
       "Sports & Outdoors        46  111  120   183   186    646\n",
       "Toys & Games             40   71  131   183   196    621\n",
       "Count                   395  641  944  1466  1554   5000"
      ]
     },
     "execution_count": 15,
     "metadata": {},
     "output_type": "execute_result"
    }
   ],
   "source": [
    "pd.crosstab(df.category, df.rating, margins=True, margins_name = \"Count\")"
   ]
  },
  {
   "cell_type": "markdown",
   "metadata": {
    "id": "9tmUwm3DpeTc"
   },
   "source": [
    "## **Preprocessing**"
   ]
  },
  {
   "cell_type": "code",
   "execution_count": 17,
   "metadata": {
    "id": "8-lQfEoqpeTd"
   },
   "outputs": [
    {
     "name": "stderr",
     "output_type": "stream",
     "text": [
      "C:\\Users\\ich\\AppData\\Local\\Temp\\ipykernel_17932\\2707855120.py:4: SettingWithCopyWarning: \n",
      "A value is trying to be set on a copy of a slice from a DataFrame.\n",
      "Try using .loc[row_indexer,col_indexer] = value instead\n",
      "\n",
      "See the caveats in the documentation: https://pandas.pydata.org/pandas-docs/stable/user_guide/indexing.html#returning-a-view-versus-a-copy\n",
      "  df.loc[:, 'sentiment_encoded'] = label_encoder.fit_transform(df['sentiment'])\n"
     ]
    }
   ],
   "source": [
    "#Encode Sentiment Labels: 0 = Negative, 1 = Neutral, 2 = Positive\n",
    "\n",
    "label_encoder = LabelEncoder()\n",
    "df.loc[:, 'sentiment_encoded'] = label_encoder.fit_transform(df['sentiment'])"
   ]
  },
  {
   "cell_type": "code",
   "execution_count": 18,
   "metadata": {
    "id": "wiMyBDQZpeTd"
   },
   "outputs": [],
   "source": [
    "# Train-Test Split\n",
    "X_train, X_test, y_train, y_test = train_test_split(\n",
    "    df['review_text'].values,\n",
    "    df['sentiment_encoded'].values,\n",
    "    test_size = 0.2,\n",
    "    random_state = 42,\n",
    "    stratify = df['sentiment_encoded']\n",
    ")\n"
   ]
  },
  {
   "cell_type": "code",
   "execution_count": 19,
   "metadata": {
    "id": "kndEX4MPpeTd",
    "outputId": "d887240d-9170-4550-ccb6-1e90a116bcc0"
   },
   "outputs": [],
   "source": [
    "# Text Vectorization\n",
    "MAX_VOCAB = 20000\n",
    "MAX_LEN = 200\n",
    "\n",
    "vectorizer = TextVectorization(max_tokens=MAX_VOCAB, output_mode='int', output_sequence_length=MAX_LEN)\n",
    "vectorizer.adapt(X_train)\n",
    "\n",
    "# Apply the vectorizer to the text data\n",
    "X_train_vec = vectorizer(X_train)\n",
    "X_test_vec = vectorizer(X_test)"
   ]
  },
  {
   "cell_type": "code",
   "execution_count": 20,
   "metadata": {
    "id": "eJFJnfsTpeTd"
   },
   "outputs": [],
   "source": [
    "# Or convert inputs to numpy (if memory allows)\n",
    "X_train_vec_np = X_train_vec.numpy()\n",
    "X_test_vec_np = X_test_vec.numpy()"
   ]
  },
  {
   "cell_type": "markdown",
   "metadata": {
    "id": "78Q683mkpeTd"
   },
   "source": [
    "## Build the Model"
   ]
  },
  {
   "cell_type": "code",
   "execution_count": 22,
   "metadata": {
    "id": "lwcBvDFapeTe"
   },
   "outputs": [],
   "source": [
    "model = Sequential([\n",
    "    Embedding(input_dim = MAX_VOCAB, output_dim = 128, input_length = MAX_LEN),\n",
    "    Bidirectional(LSTM(64)),\n",
    "    Dropout(0.5),\n",
    "    Dense(128, activation = 'relu'),\n",
    "    Dropout(0.3),\n",
    "    Dense(64, activation = 'relu'),\n",
    "    Dropout(0.2),\n",
    "    Dense(3, activation = 'softmax')\n",
    "])"
   ]
  },
  {
   "cell_type": "code",
   "execution_count": 23,
   "metadata": {
    "id": "gaDQrMy0peTe"
   },
   "outputs": [],
   "source": [
    "#compile the model\n",
    "\n",
    "model.compile(\n",
    "    loss = 'sparse_categorical_crossentropy',\n",
    "    optimizer = 'adam',\n",
    "    metrics = ['accuracy']\n",
    ")"
   ]
  },
  {
   "cell_type": "code",
   "execution_count": 24,
   "metadata": {
    "id": "DM4mkZWipeTe"
   },
   "outputs": [],
   "source": [
    "# Setup Callbacks\n",
    "callback = EarlyStopping(\n",
    "    monitor = 'val_loss',      # Now monitors validation loss\n",
    "    patience = 3,              # Number of epochs with no improvement before stopping\n",
    "    mode = 'min',              # Lower loss is better\n",
    "    restore_best_weights = True\n",
    ")\n",
    "\n",
    "checkpoint = ModelCheckpoint(\n",
    "    'best_model.h5',\n",
    "    monitor ='val_loss',      # Now monitors validation loss\n",
    "    save_best_only = True,\n",
    "    mode = 'min',              # Lower loss is better\n",
    "    verbose = 1\n",
    ")\n"
   ]
  },
  {
   "cell_type": "code",
   "execution_count": 56,
   "metadata": {
    "id": "i8sGQxP7peTe"
   },
   "outputs": [
    {
     "name": "stdout",
     "output_type": "stream",
     "text": [
      "Epoch 1/15\n",
      "\u001b[1m125/125\u001b[0m \u001b[32m━━━━━━━━━━━━━━━━━━━━\u001b[0m\u001b[37m\u001b[0m \u001b[1m0s\u001b[0m 167ms/step - accuracy: 0.8180 - loss: 0.4359\n",
      "Epoch 1: val_loss did not improve from 0.43512\n",
      "\u001b[1m125/125\u001b[0m \u001b[32m━━━━━━━━━━━━━━━━━━━━\u001b[0m\u001b[37m\u001b[0m \u001b[1m23s\u001b[0m 179ms/step - accuracy: 0.8180 - loss: 0.4360 - val_accuracy: 0.8160 - val_loss: 0.4388\n",
      "Epoch 2/15\n",
      "\u001b[1m125/125\u001b[0m \u001b[32m━━━━━━━━━━━━━━━━━━━━\u001b[0m\u001b[37m\u001b[0m \u001b[1m0s\u001b[0m 173ms/step - accuracy: 0.8054 - loss: 0.4490\n",
      "Epoch 2: val_loss did not improve from 0.43512\n",
      "\u001b[1m125/125\u001b[0m \u001b[32m━━━━━━━━━━━━━━━━━━━━\u001b[0m\u001b[37m\u001b[0m \u001b[1m24s\u001b[0m 196ms/step - accuracy: 0.8055 - loss: 0.4490 - val_accuracy: 0.8160 - val_loss: 0.4370\n",
      "Epoch 3/15\n",
      "\u001b[1m125/125\u001b[0m \u001b[32m━━━━━━━━━━━━━━━━━━━━\u001b[0m\u001b[37m\u001b[0m \u001b[1m0s\u001b[0m 162ms/step - accuracy: 0.8069 - loss: 0.4550\n",
      "Epoch 3: val_loss did not improve from 0.43512\n",
      "\u001b[1m125/125\u001b[0m \u001b[32m━━━━━━━━━━━━━━━━━━━━\u001b[0m\u001b[37m\u001b[0m \u001b[1m21s\u001b[0m 172ms/step - accuracy: 0.8070 - loss: 0.4550 - val_accuracy: 0.8160 - val_loss: 0.4418\n",
      "Epoch 4/15\n",
      "\u001b[1m125/125\u001b[0m \u001b[32m━━━━━━━━━━━━━━━━━━━━\u001b[0m\u001b[37m\u001b[0m \u001b[1m0s\u001b[0m 161ms/step - accuracy: 0.8165 - loss: 0.4345\n",
      "Epoch 4: val_loss did not improve from 0.43512\n",
      "\u001b[1m125/125\u001b[0m \u001b[32m━━━━━━━━━━━━━━━━━━━━\u001b[0m\u001b[37m\u001b[0m \u001b[1m21s\u001b[0m 170ms/step - accuracy: 0.8164 - loss: 0.4346 - val_accuracy: 0.8160 - val_loss: 0.4363\n",
      "Epoch 5/15\n",
      "\u001b[1m125/125\u001b[0m \u001b[32m━━━━━━━━━━━━━━━━━━━━\u001b[0m\u001b[37m\u001b[0m \u001b[1m0s\u001b[0m 160ms/step - accuracy: 0.8076 - loss: 0.4447\n",
      "Epoch 5: val_loss did not improve from 0.43512\n",
      "\u001b[1m125/125\u001b[0m \u001b[32m━━━━━━━━━━━━━━━━━━━━\u001b[0m\u001b[37m\u001b[0m \u001b[1m41s\u001b[0m 172ms/step - accuracy: 0.8076 - loss: 0.4447 - val_accuracy: 0.8160 - val_loss: 0.4361\n",
      "Epoch 6/15\n",
      "\u001b[1m125/125\u001b[0m \u001b[32m━━━━━━━━━━━━━━━━━━━━\u001b[0m\u001b[37m\u001b[0m \u001b[1m0s\u001b[0m 188ms/step - accuracy: 0.8100 - loss: 0.4432\n",
      "Epoch 6: val_loss did not improve from 0.43512\n",
      "\u001b[1m125/125\u001b[0m \u001b[32m━━━━━━━━━━━━━━━━━━━━\u001b[0m\u001b[37m\u001b[0m \u001b[1m25s\u001b[0m 202ms/step - accuracy: 0.8100 - loss: 0.4432 - val_accuracy: 0.8160 - val_loss: 0.4371\n",
      "Epoch 7/15\n",
      "\u001b[1m125/125\u001b[0m \u001b[32m━━━━━━━━━━━━━━━━━━━━\u001b[0m\u001b[37m\u001b[0m \u001b[1m0s\u001b[0m 149ms/step - accuracy: 0.8204 - loss: 0.4451\n",
      "Epoch 7: val_loss improved from 0.43512 to 0.43300, saving model to best_model.h5\n"
     ]
    },
    {
     "name": "stderr",
     "output_type": "stream",
     "text": [
      "WARNING:absl:You are saving your model as an HDF5 file via `model.save()` or `keras.saving.save_model(model)`. This file format is considered legacy. We recommend using instead the native Keras format, e.g. `model.save('my_model.keras')` or `keras.saving.save_model(model, 'my_model.keras')`. \n"
     ]
    },
    {
     "name": "stdout",
     "output_type": "stream",
     "text": [
      "\u001b[1m125/125\u001b[0m \u001b[32m━━━━━━━━━━━━━━━━━━━━\u001b[0m\u001b[37m\u001b[0m \u001b[1m36s\u001b[0m 159ms/step - accuracy: 0.8203 - loss: 0.4451 - val_accuracy: 0.8160 - val_loss: 0.4330\n",
      "Epoch 8/15\n",
      "\u001b[1m125/125\u001b[0m \u001b[32m━━━━━━━━━━━━━━━━━━━━\u001b[0m\u001b[37m\u001b[0m \u001b[1m0s\u001b[0m 177ms/step - accuracy: 0.7991 - loss: 0.4537\n",
      "Epoch 8: val_loss did not improve from 0.43300\n",
      "\u001b[1m125/125\u001b[0m \u001b[32m━━━━━━━━━━━━━━━━━━━━\u001b[0m\u001b[37m\u001b[0m \u001b[1m25s\u001b[0m 201ms/step - accuracy: 0.7992 - loss: 0.4536 - val_accuracy: 0.8160 - val_loss: 0.4349\n",
      "Epoch 9/15\n",
      "\u001b[1m125/125\u001b[0m \u001b[32m━━━━━━━━━━━━━━━━━━━━\u001b[0m\u001b[37m\u001b[0m \u001b[1m0s\u001b[0m 157ms/step - accuracy: 0.8179 - loss: 0.4312\n",
      "Epoch 9: val_loss did not improve from 0.43300\n",
      "\u001b[1m125/125\u001b[0m \u001b[32m━━━━━━━━━━━━━━━━━━━━\u001b[0m\u001b[37m\u001b[0m \u001b[1m21s\u001b[0m 167ms/step - accuracy: 0.8179 - loss: 0.4313 - val_accuracy: 0.8160 - val_loss: 0.4348\n",
      "Epoch 10/15\n",
      "\u001b[1m125/125\u001b[0m \u001b[32m━━━━━━━━━━━━━━━━━━━━\u001b[0m\u001b[37m\u001b[0m \u001b[1m0s\u001b[0m 161ms/step - accuracy: 0.8167 - loss: 0.4463\n",
      "Epoch 10: val_loss did not improve from 0.43300\n",
      "\u001b[1m125/125\u001b[0m \u001b[32m━━━━━━━━━━━━━━━━━━━━\u001b[0m\u001b[37m\u001b[0m \u001b[1m22s\u001b[0m 171ms/step - accuracy: 0.8167 - loss: 0.4463 - val_accuracy: 0.8160 - val_loss: 0.4360\n"
     ]
    }
   ],
   "source": [
    "#fit and train the model\n",
    "\n",
    "history = model.fit(\n",
    "    X_train_vec.numpy(),  # Use original tensor's numpy array\n",
    "    y_train,              # Keep as NumPy (from train_test_split)\n",
    "    validation_data = (X_test_vec_np, y_test),  # Both NumPy now\n",
    "    epochs = 15,\n",
    "    batch_size = 32,\n",
    "    validation_batch_size = 32,\n",
    "    callbacks = [callback, checkpoint]\n",
    ")"
   ]
  },
  {
   "cell_type": "markdown",
   "metadata": {},
   "source": [
    "## Evaluate the Model"
   ]
  },
  {
   "cell_type": "code",
   "execution_count": 60,
   "metadata": {
    "id": "Ij3htQZqpeTf"
   },
   "outputs": [
    {
     "name": "stdout",
     "output_type": "stream",
     "text": [
      "\u001b[1m32/32\u001b[0m \u001b[32m━━━━━━━━━━━━━━━━━━━━\u001b[0m\u001b[37m\u001b[0m \u001b[1m1s\u001b[0m 41ms/step - accuracy: 0.8106 - loss: 0.4369\n",
      "\n",
      "Test Accuracy: 0.82\n"
     ]
    }
   ],
   "source": [
    "# Evaluate the Model\n",
    "test_loss, test_acc, = model.evaluate(X_test_vec_np, y_test)\n",
    "print(f\"\\nTest Accuracy: {test_acc:.2f}\")\n",
    "\n"
   ]
  },
  {
   "cell_type": "code",
   "execution_count": 62,
   "metadata": {
    "id": "Sk6gT_oVpeTf"
   },
   "outputs": [
    {
     "name": "stdout",
     "output_type": "stream",
     "text": [
      "\u001b[1m32/32\u001b[0m \u001b[32m━━━━━━━━━━━━━━━━━━━━\u001b[0m\u001b[37m\u001b[0m \u001b[1m1s\u001b[0m 38ms/step\n",
      "              precision    recall  f1-score   support\n",
      "\n",
      "    Negative       0.88      0.84      0.86       180\n",
      "     Neutral       0.69      0.73      0.71       312\n",
      "    Positive       0.87      0.86      0.87       508\n",
      "\n",
      "    accuracy                           0.82      1000\n",
      "   macro avg       0.82      0.81      0.81      1000\n",
      "weighted avg       0.82      0.82      0.82      1000\n",
      "\n"
     ]
    }
   ],
   "source": [
    "# inspect metrics\n",
    "\n",
    "y_pred = model.predict(X_test_vec_np)\n",
    "y_pred_classes = np.argmax(y_pred, axis=1)\n",
    "\n",
    "print(classification_report(y_test, y_pred_classes,\n",
    "                            target_names=['Negative', 'Neutral', 'Positive']))"
   ]
  },
  {
   "cell_type": "code",
   "execution_count": 64,
   "metadata": {},
   "outputs": [
    {
     "data": {
      "image/png": "[encoded data removed]",
      "text/plain": [
       "<Figure size 640x480 with 2 Axes>"
      ]
     },
     "metadata": {},
     "output_type": "display_data"
    }
   ],
   "source": [
    "from sklearn.metrics import confusion_matrix\n",
    "import seaborn as sns\n",
    "\n",
    "# Confusion matrix\n",
    "cm = confusion_matrix(y_test, y_pred_classes)\n",
    "\n",
    "labels = ['Negative', 'Neutral', 'Positive']\n",
    "\n",
    "sns.heatmap(cm, annot=True, fmt='d', cmap='Blues', xticklabels=labels, yticklabels=labels)\n",
    "plt.xlabel('Predicted')\n",
    "plt.ylabel('True')\n",
    "plt.title('Confusion Matrix')\n",
    "plt.show()"
   ]
  },
  {
   "cell_type": "code",
   "execution_count": 66,
   "metadata": {},
   "outputs": [
    {
     "data": {
      "image/png": "[encoded data removed]",
      "text/plain": [
       "<Figure size 1200x400 with 2 Axes>"
      ]
     },
     "metadata": {},
     "output_type": "display_data"
    }
   ],
   "source": [
    "# Plot Training History\n",
    "plt.figure(figsize=(12, 4))\n",
    "\n",
    "# Accuracy Plot\n",
    "plt.subplot(1, 2, 1)\n",
    "plt.plot(history.history['accuracy'], label='Train Accuracy')\n",
    "plt.plot(history.history['val_accuracy'], label='Val Accuracy')\n",
    "plt.title('Accuracy over Epochs')\n",
    "plt.xlabel('Epoch')\n",
    "plt.ylabel('Accuracy')\n",
    "plt.legend()\n",
    "\n",
    "# Loss Plot\n",
    "plt.subplot(1, 2, 2)\n",
    "plt.plot(history.history['loss'], label='Train Loss')\n",
    "plt.plot(history.history['val_loss'], label='Val Loss')\n",
    "plt.title('Loss over Epochs')\n",
    "plt.xlabel('Epoch')\n",
    "plt.ylabel('Loss')\n",
    "plt.legend()\n",
    "\n",
    "plt.tight_layout()\n",
    "plt.show()\n"
   ]
  }
 ],
 "metadata": {
  "colab": {
   "name": "notebook015bd50e79",
   "provenance": []
  },
  "kaggle": {
   "accelerator": "nvidiaTeslaT4",
   "dataSources": [
    {
     "datasetId": 7304783,
     "sourceId": 11641354,
     "sourceType": "datasetVersion"
    }
   ],
   "dockerImageVersionId": 31041,
   "isGpuEnabled": true,
   "isInternetEnabled": true,
   "language": "python",
   "sourceType": "notebook"
  },
  "kernelspec": {
   "display_name": "Python 3 (ipykernel)",
   "language": "python",
   "name": "python3"
  },
  "language_info": {
   "codemirror_mode": {
    "name": "ipython",
    "version": 3
   },
   "file_extension": ".py",
   "mimetype": "text/x-python",
   "name": "python",
   "nbconvert_exporter": "python",
   "pygments_lexer": "ipython3",
   "version": "3.12.7"
  }
 },
 "nbformat": 4,
 "nbformat_minor": 4
}
